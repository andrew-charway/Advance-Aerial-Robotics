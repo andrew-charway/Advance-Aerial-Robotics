{
 "cells": [
  {
   "cell_type": "markdown",
   "id": "acting-values",
   "metadata": {},
   "source": [
    "This code was modified from https://github.com/swarmslab/thruststand_test/blob/master/main.py. The purpose of this program is to find the km and kf values through linear regression of data values collected from a thrust bench setup."
   ]
  },
  {
   "cell_type": "code",
   "execution_count": 1,
   "id": "russian-testament",
   "metadata": {},
   "outputs": [
    {
     "name": "stdout",
     "output_type": "stream",
     "text": [
      "Populating the interactive namespace from numpy and matplotlib\n"
     ]
    }
   ],
   "source": [
    "%pylab inline\n",
    "import pandas as pd\n",
    "from sklearn.linear_model import LinearRegression"
   ]
  },
  {
   "cell_type": "markdown",
   "id": "further-bloom",
   "metadata": {},
   "source": [
    "Graphing thrust against the motor speed"
   ]
  },
  {
   "cell_type": "code",
   "execution_count": 2,
   "id": "mounted-occurrence",
   "metadata": {},
   "outputs": [],
   "source": [
    "csv_file = 'saleh_andrew_gustavo_big_prop_3cell.csv'"
   ]
  },
  {
   "cell_type": "code",
   "execution_count": 3,
   "id": "vertical-train",
   "metadata": {},
   "outputs": [],
   "source": [
    "data = pd.read_csv(csv_file)"
   ]
  },
  {
   "cell_type": "code",
   "execution_count": 4,
   "id": "contained-exhibit",
   "metadata": {},
   "outputs": [],
   "source": [
    "units = np.linspace(min(data['Motor Electrical Speed (RPM)']), max(data['Motor Electrical Speed (RPM)']), 100)"
   ]
  },
  {
   "cell_type": "code",
   "execution_count": 5,
   "id": "informal-hypothesis",
   "metadata": {},
   "outputs": [],
   "source": [
    "X = data.loc[:, \"Motor Electrical Speed (RPM)\"].values.reshape(-1, 1)\n",
    "X1 = np.reshape(X,-1)\n",
    "Y = data.loc[:, \"Thrust (kgf)\"].values.reshape(-1, 1)\n",
    "Y1 = np.reshape(Y,-1)"
   ]
  },
  {
   "cell_type": "markdown",
   "id": "sexual-accommodation",
   "metadata": {},
   "source": [
    "Using polyfit and returning the polynomial equation"
   ]
  },
  {
   "cell_type": "code",
   "execution_count": 6,
   "id": "catholic-quantum",
   "metadata": {},
   "outputs": [
    {
     "name": "stdout",
     "output_type": "stream",
     "text": [
      "3.7997e-09x^2 -6.5322e-06 +2.1254e-02\n"
     ]
    }
   ],
   "source": [
    "fit = np.polyfit(X1,Y1,2)\n",
    "polynomial_eqn = np.poly1d(fit)\n",
    "print (\"{0:.4e}x^2 {1:+.4e} {2:+.4e}\".format(*fit))"
   ]
  },
  {
   "cell_type": "code",
   "execution_count": 14,
   "id": "perceived-excerpt",
   "metadata": {},
   "outputs": [
    {
     "data": {
      "text/plain": [
       "<Figure size 432x288 with 0 Axes>"
      ]
     },
     "metadata": {},
     "output_type": "display_data"
    }
   ],
   "source": [
    "fig1 = plt.figure()"
   ]
  },
  {
   "cell_type": "code",
   "execution_count": 15,
   "id": "sonic-valuable",
   "metadata": {},
   "outputs": [],
   "source": [
    "ax1 = fig1.add_subplot(111)\n",
    "ax1.set_title('Thrust vs Motor Speed')\n",
    "ax1.grid()\n",
    "yy=(max(Y)-min(Y))*0.8\n",
    "ax1.text(X[0], yy, \"f(x) = {0:.4e}x^2 {1:+.4e}x {2:+.4e}\".format(*fit), style='italic')\n",
    "color = 'tab:blue'\n",
    "ax1.set_xlabel('Motor Speed (RPM)')\n",
    "ax1.set_ylabel('Thrust (kgf)')\n",
    "ax1.plot(X1, Y1, color=color,marker=\"o\", linestyle='None', label='Thrust (gf)')\n",
    "ax1.plot(units, polynomial_eqn(units), '-r', label='Curve fit')"
   ]
  },
  {
   "cell_type": "markdown",
   "id": "threatened-argument",
   "metadata": {},
   "source": [
    "Graphing Torque against the motor speed"
   ]
  },
  {
   "cell_type": "code",
   "execution_count": 9,
   "id": "analyzed-night",
   "metadata": {},
   "outputs": [],
   "source": [
    "units1 = np.linspace(min(data['Motor Electrical Speed (RPM)']), max(data['Motor Electrical Speed (RPM)']), 100)"
   ]
  },
  {
   "cell_type": "code",
   "execution_count": 10,
   "id": "laden-application",
   "metadata": {},
   "outputs": [],
   "source": [
    "X_1 = data.loc[:, \"Motor Electrical Speed (RPM)\"].values.reshape(-1, 1)\n",
    "X2 = np.reshape(X_1,-1)\n",
    "Y_1 = data.loc[:, \"Torque (N·m)\"].values.reshape(-1, 1)\n",
    "Y2 = np.reshape(Y_1,-1)\n",
    "pos_Y2 = Y2*-1"
   ]
  },
  {
   "cell_type": "code",
   "execution_count": 11,
   "id": "decent-expression",
   "metadata": {},
   "outputs": [
    {
     "name": "stdout",
     "output_type": "stream",
     "text": [
      "4.7826e-10x^2 -6.9954e-07) +2.6973e-03\n"
     ]
    }
   ],
   "source": [
    "fit1 = np.polyfit(X2,pos_Y2,2)\n",
    "polynomial_eqn1 = np.poly1d(fit1)\n",
    "print (\"{0:.4e}x^2 {1:+.4e}) {2:+.4e}\".format(*fit1))"
   ]
  },
  {
   "cell_type": "code",
   "execution_count": 12,
   "id": "certain-discovery",
   "metadata": {},
   "outputs": [
    {
     "data": {
      "text/plain": [
       "<Figure size 432x288 with 0 Axes>"
      ]
     },
     "metadata": {},
     "output_type": "display_data"
    }
   ],
   "source": [
    "fig2 = plt.figure()"
   ]
  },
  {
   "cell_type": "code",
   "execution_count": 13,
   "id": "lightweight-acoustic",
   "metadata": {},
   "outputs": [
    {
     "data": {
      "text/plain": [
       "[<matplotlib.lines.Line2D at 0x7f6354c95e80>]"
      ]
     },
     "execution_count": 13,
     "metadata": {},
     "output_type": "execute_result"
    }
   ],
   "source": [
    "ax2 = fig2.add_subplot(111)\n",
    "ax2.set_title('Torque vs Motor Speed')\n",
    "ax2.grid()\n",
    "yy1=(max(Y_1)-min(Y_1))*0.8\n",
    "ax2.text(X_1[0], yy1, \"f(x) = {0:.4e}x^2 {1:+.4e}x {2:+.4e}\".format(*fit1), style='italic')\n",
    "color = 'tab:blue'\n",
    "ax2.set_xlabel('Motor Speed (RPM)')\n",
    "ax2.set_ylabel('Torque (N.M)')\n",
    "ax2.plot(X2, pos_Y2, color=color,marker=\"o\", linestyle='None', label = 'Torque')\n",
    "ax2.plot(units1, polynomial_eqn1(units1), '-r', label='Curve fit')"
   ]
  },
  {
   "cell_type": "code",
   "execution_count": 14,
   "id": "front-calcium",
   "metadata": {},
   "outputs": [],
   "source": [
    "plt.show()"
   ]
  },
  {
   "cell_type": "code",
   "execution_count": null,
   "id": "noble-cliff",
   "metadata": {},
   "outputs": [],
   "source": []
  }
 ],
 "metadata": {
  "kernelspec": {
   "display_name": "Python 3",
   "language": "python",
   "name": "python3"
  },
  "language_info": {
   "codemirror_mode": {
    "name": "ipython",
    "version": 3
   },
   "file_extension": ".py",
   "mimetype": "text/x-python",
   "name": "python",
   "nbconvert_exporter": "python",
   "pygments_lexer": "ipython3",
   "version": "3.6.12"
  }
 },
 "nbformat": 4,
 "nbformat_minor": 5
}
