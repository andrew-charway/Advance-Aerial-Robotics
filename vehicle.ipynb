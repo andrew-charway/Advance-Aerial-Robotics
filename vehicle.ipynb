{
 "cells": [
  {
   "cell_type": "markdown",
   "id": "acquired-supervision",
   "metadata": {},
   "source": [
    "The goal of this program is to design a robot and write a control policy to move the robot to the desired point and a desired orientation"
   ]
  },
  {
   "cell_type": "code",
   "execution_count": 1,
   "id": "accessible-berlin",
   "metadata": {},
   "outputs": [
    {
     "name": "stdout",
     "output_type": "stream",
     "text": [
      "Populating the interactive namespace from numpy and matplotlib\n"
     ]
    }
   ],
   "source": [
    "%pylab inline\n",
    "import matplotlib.pyplot as plt\n",
    "from matplotlib import animation\n",
    "from JSAnimation import IPython_display    \n",
    "from IPython.display import HTML\n",
    "import math"
   ]
  },
  {
   "cell_type": "markdown",
   "id": "tamil-punch",
   "metadata": {},
   "source": [
    "## Euler Integration"
   ]
  },
  {
   "cell_type": "code",
   "execution_count": 2,
   "id": "first-acting",
   "metadata": {},
   "outputs": [],
   "source": [
    "def simulate(Δt,z,u):\n",
    "    z = z + Δt*u\n",
    "    return z"
   ]
  },
  {
   "cell_type": "markdown",
   "id": "dying-therapist",
   "metadata": {},
   "source": [
    "## Control Policy"
   ]
  },
  {
   "cell_type": "code",
   "execution_count": 3,
   "id": "engaging-madness",
   "metadata": {},
   "outputs": [],
   "source": [
    "def control(t,z,pos_ref,kp_kd,l,g,mass,dz):\n",
    "    error = pos_ref - z\n",
    "    xu = kp_kd[0]*error[0] + kp_kd[1]*error[3] + mass*g\n",
    "    zu = kp_kd[0]*error[1] + kp_kd[1]*error[4] + mass*g\n",
    "    thetaU = kp_kd[0]*error[2] + kp_kd[1]*error[5] + (6*g)/l\n",
    "    \n",
    "    dz[:3] = z[3:]\n",
    "    dz[3] = xu/mass-g \n",
    "    dz[4] = zu/mass-g\n",
    "    dz[5] = thetaU/mass-g\n",
    "    return dz"
   ]
  },
  {
   "cell_type": "markdown",
   "id": "rough-scanning",
   "metadata": {},
   "source": [
    "## Vehicle Design"
   ]
  },
  {
   "cell_type": "code",
   "execution_count": 4,
   "id": "worst-blame",
   "metadata": {},
   "outputs": [
    {
     "name": "stdout",
     "output_type": "stream",
     "text": [
      "[[-0.99608784 -0.44807362  0.52532199]\n",
      " [ 0.08836869  0.89399666  0.85090352]\n",
      " [-0.5864126  -3.62765091 -3.1409531 ]]\n",
      "The rank of the matrix is:  3\n"
     ]
    },
    {
     "ename": "NameError",
     "evalue": "name 'patches' is not defined",
     "output_type": "error",
     "traceback": [
      "\u001b[0;31m---------------------------------------------------------------------------\u001b[0m",
      "\u001b[0;31mNameError\u001b[0m                                 Traceback (most recent call last)",
      "\u001b[0;32m<ipython-input-4-16fa866b5f60>\u001b[0m in \u001b[0;36m<module>\u001b[0;34m\u001b[0m\n\u001b[1;32m     20\u001b[0m \u001b[0;34m\u001b[0m\u001b[0m\n\u001b[1;32m     21\u001b[0m \u001b[0;34m\u001b[0m\u001b[0m\n\u001b[0;32m---> 22\u001b[0;31m \u001b[0mrect\u001b[0m \u001b[0;34m=\u001b[0m \u001b[0mpatches\u001b[0m\u001b[0;34m.\u001b[0m\u001b[0mRectangle\u001b[0m\u001b[0;34m(\u001b[0m\u001b[0;34m(\u001b[0m\u001b[0;36m0\u001b[0m\u001b[0;34m,\u001b[0m \u001b[0;36m0\u001b[0m\u001b[0;34m)\u001b[0m\u001b[0;34m,\u001b[0m \u001b[0;36m5\u001b[0m\u001b[0;34m,\u001b[0m \u001b[0;36m1\u001b[0m\u001b[0;34m,\u001b[0m \u001b[0mfacecolor\u001b[0m\u001b[0;34m=\u001b[0m\u001b[0;34m'none'\u001b[0m\u001b[0;34m,\u001b[0m\u001b[0mlinewidth\u001b[0m\u001b[0;34m=\u001b[0m\u001b[0;36m1\u001b[0m\u001b[0;34m,\u001b[0m \u001b[0medgecolor\u001b[0m\u001b[0;34m=\u001b[0m\u001b[0;34m'r'\u001b[0m\u001b[0;34m,\u001b[0m \u001b[0mls\u001b[0m\u001b[0;34m=\u001b[0m\u001b[0;34m'--'\u001b[0m\u001b[0;34m)\u001b[0m\u001b[0;34m\u001b[0m\u001b[0;34m\u001b[0m\u001b[0m\n\u001b[0m\u001b[1;32m     23\u001b[0m \u001b[0;34m\u001b[0m\u001b[0m\n\u001b[1;32m     24\u001b[0m \u001b[0max\u001b[0m\u001b[0;34m.\u001b[0m\u001b[0mquiver\u001b[0m\u001b[0;34m(\u001b[0m\u001b[0mx_pos\u001b[0m\u001b[0;34m,\u001b[0m\u001b[0my_pos\u001b[0m\u001b[0;34m,\u001b[0m\u001b[0mx_direct\u001b[0m\u001b[0;34m,\u001b[0m\u001b[0my_direct\u001b[0m\u001b[0;34m)\u001b[0m\u001b[0;34m\u001b[0m\u001b[0;34m\u001b[0m\u001b[0m\n",
      "\u001b[0;31mNameError\u001b[0m: name 'patches' is not defined"
     ]
    },
    {
     "data": {
      "image/png": "[encoded data removed]",
      "text/plain": [
       "<Figure size 432x288 with 1 Axes>"
      ]
     },
     "metadata": {
      "needs_background": "light"
     },
     "output_type": "display_data"
    }
   ],
   "source": [
    "p1 = np.array([1,0.5])\n",
    "p2 = np.array([2.5,0.5])\n",
    "p3 = np.array([4,0.5])\n",
    "theta1 = 135\n",
    "theta2 = 90\n",
    "theta3 = 45\n",
    "\n",
    "A = np.array([[math.cos(theta1),math.cos(theta2),math.cos(theta3)],[math.sin(theta1),math.sin(theta2),math.sin(theta3)],[math.cos(theta1)*p1[1]-math.sin(theta1)*p1[0],math.cos(theta2)*p2[1]-math.sin(theta3)*p3[0],math.cos(theta3)*p3[1]-math.sin(theta3)*p3[0]]])\n",
    "print(A)\n",
    "rank = np.linalg.matrix_rank(A)\n",
    "print(\"The rank of the matrix is: \",rank)\n",
    "\n",
    "\n",
    "fig, ax = plt.subplots()\n",
    "\n",
    "x_pos = [0.5, 2.5,4.5]\n",
    "y_pos = [1,1,1]\n",
    "x_direct = [-1,0,1]\n",
    "y_direct = [1,1,1]\n",
    "\n",
    "\n",
    "rect = patches.Rectangle((0, 0), 5, 1, facecolor='none',linewidth=1, edgecolor='r', ls='--')\n",
    "\n",
    "ax.quiver(x_pos,y_pos,x_direct,y_direct)\n",
    "ax.add_patch(rect)\n",
    "plt.grid()\n",
    "ax.set_xlim(-10, 20)\n",
    "ax.set_ylim(-10, 20)\n",
    "plt.show()"
   ]
  },
  {
   "cell_type": "markdown",
   "id": "subtle-chuck",
   "metadata": {},
   "source": [
    "## Running the simulator"
   ]
  },
  {
   "cell_type": "code",
   "execution_count": null,
   "id": "toxic-refrigerator",
   "metadata": {},
   "outputs": [],
   "source": [
    "tf=10\n",
    "Δt = 0.1  #Time Step\n",
    "time = np.linspace(0.,tf,int(tf/Δt+1))\n",
    "\n",
    "#initializations\n",
    "z = np.array([0.,0.,0.,0.,0.,0.])\n",
    "z_log = [np.copy(z)]\n",
    "dz = np.array([0.,0.,0.,0.,0.,0.])\n",
    "theta_ref = (3*math.pi)/4\n",
    "pos_ref = np.array([15,15,theta_ref,0,0,0])\n",
    "l=2.5\n",
    "g = 9.8\n",
    "mass = 1\n",
    "kp_kd = np.array([5.,3.])\n",
    "\n",
    "for t in time[1:]:\n",
    "    contrl = control(t,z,pos_ref,kp_kd,l,g,mass,dz)\n",
    "    z = simulate(Δt,z,contrl)\n",
    "    z_log.append(np.copy(z))\n",
    "z_log = np.array(z_log)\n",
    "\n",
    "fig1 = plt.figure()\n",
    "ax1 = fig1.add_subplot(111)\n",
    "ax1.plot(time,z_log[:,1], 'r--')\n",
    "\n",
    "#print(z_log)\n",
    "pos_x = z_log[:,0]\n",
    "print(pos_x.shape)\n",
    "pos_y = z_log[:,1]\n",
    "pos_theta = z_log[:,2]"
   ]
  },
  {
   "cell_type": "markdown",
   "id": "noticed-franchise",
   "metadata": {},
   "source": [
    "## Animation"
   ]
  },
  {
   "cell_type": "code",
   "execution_count": null,
   "id": "obvious-relations",
   "metadata": {},
   "outputs": [],
   "source": [
    "patch = patches.Rectangle((0,0),0,0,fc='b')\n",
    "\n",
    "def init():\n",
    "    ax.add_patch(patch)\n",
    "    return patch,\n",
    "\n",
    "\n",
    "\n",
    "def animate(i):\n",
    "    patch.set_width(5)\n",
    "    patch.set_height(1)\n",
    "    patch.set_xy([pos_x[i],pos_y[i]])\n",
    "    #patch.set_xy([0,0])\n",
    "    patch.angle = np.rad2deg(pos_theta[i])\n",
    "    return patch,\n",
    "\n",
    "anim = animation.FuncAnimation(fig, animate,init_func=init,frames=len(time),interval=150,blit=True)\n",
    "HTML(anim.to_jshtml())"
   ]
  }
 ],
 "metadata": {
  "kernelspec": {
   "display_name": "Python 3",
   "language": "python",
   "name": "python3"
  },
  "language_info": {
   "codemirror_mode": {
    "name": "ipython",
    "version": 3
   },
   "file_extension": ".py",
   "mimetype": "text/x-python",
   "name": "python",
   "nbconvert_exporter": "python",
   "pygments_lexer": "ipython3",
   "version": "3.6.12"
  }
 },
 "nbformat": 4,
 "nbformat_minor": 5
}
